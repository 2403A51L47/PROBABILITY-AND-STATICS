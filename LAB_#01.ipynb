{
  "nbformat": 4,
  "nbformat_minor": 0,
  "metadata": {
    "colab": {
      "provenance": [],
      "authorship_tag": "ABX9TyN8YsPT0QqJPsptWmaH97dQ",
      "include_colab_link": true
    },
    "kernelspec": {
      "name": "python3",
      "display_name": "Python 3"
    },
    "language_info": {
      "name": "python"
    }
  },
  "cells": [
    {
      "cell_type": "markdown",
      "metadata": {
        "id": "view-in-github",
        "colab_type": "text"
      },
      "source": [
        "<a href=\"https://colab.research.google.com/github/2403A51L47/PROBABILITY-AND-STATICS/blob/main/LAB_%2301.ipynb\" target=\"_parent\"><img src=\"https://colab.research.google.com/assets/colab-badge.svg\" alt=\"Open In Colab\"/></a>"
      ]
    },
    {
      "cell_type": "code",
      "execution_count": 9,
      "metadata": {
        "id": "cmZDwHbKqLIQ"
      },
      "outputs": [],
      "source": [
        "import numpy as np\n",
        "import scipy.stats as stats"
      ]
    },
    {
      "cell_type": "code",
      "source": [
        "data = [8800, 10000, 7000, 9900, 9950, 8200, 10100, 9000, 9700, 10800, 10000, 10250, 10300, 9900, 4000, 6000, 6500]\n"
      ],
      "metadata": {
        "id": "zIVdp2GZ0Waj"
      },
      "execution_count": 10,
      "outputs": []
    },
    {
      "cell_type": "code",
      "source": [
        "mean = np.mean(data)\n",
        "std_dev = np.std(data, ddof=1)\n",
        "n = len(data)"
      ],
      "metadata": {
        "id": "7WbpH95h0pc1"
      },
      "execution_count": 11,
      "outputs": []
    },
    {
      "cell_type": "code",
      "source": [
        "t_critical = stats.t.ppf(0.975, df=n-1)\n",
        "std_error = std_dev / np.sqrt(n)"
      ],
      "metadata": {
        "id": "ibA2b5eA1pef"
      },
      "execution_count": 13,
      "outputs": []
    },
    {
      "cell_type": "code",
      "source": [
        "margin_of_error = t_critical * std_error\n",
        "confidence_interval = (mean - margin_of_error, mean + margin_of_error)"
      ],
      "metadata": {
        "id": "j4U9sm4x3QRf"
      },
      "execution_count": 14,
      "outputs": []
    },
    {
      "cell_type": "code",
      "source": [
        "claimed_rent = 10000\n",
        "reject_null = claimed_rent < confidence_interval[0] or claimed_rent > confidence_interval[1]"
      ],
      "metadata": {
        "id": "3368TWGu3Tvc"
      },
      "execution_count": 15,
      "outputs": []
    },
    {
      "cell_type": "code",
      "source": [
        "print(f\"Sample Mean: {mean:.2f}\")\n",
        "print(f\"Sample Standard Deviation: {std_dev:.2f}\")\n",
        "print(f\"95% Confidence Interval: ({confidence_interval[0]:.2f}, {confidence_interval[1]:.2f})\")\n",
        "print(f\"Reject the null hypothesis: {reject_null}\")"
      ],
      "metadata": {
        "colab": {
          "base_uri": "https://localhost:8080/"
        },
        "id": "hIh4Uiyy3XOt",
        "outputId": "e46c57fd-8b3c-43a1-b2cd-65cb05f3bcfb"
      },
      "execution_count": 16,
      "outputs": [
        {
          "output_type": "stream",
          "name": "stdout",
          "text": [
            "Sample Mean: 8847.06\n",
            "Sample Standard Deviation: 1891.55\n",
            "95% Confidence Interval: (7874.51, 9819.60)\n",
            "Reject the null hypothesis: True\n"
          ]
        }
      ]
    }
  ]
}