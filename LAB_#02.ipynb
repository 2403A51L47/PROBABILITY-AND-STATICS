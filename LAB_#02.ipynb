{
  "nbformat": 4,
  "nbformat_minor": 0,
  "metadata": {
    "colab": {
      "provenance": [],
      "authorship_tag": "ABX9TyO0wX5qeNqVYujpys3xM7VT",
      "include_colab_link": true
    },
    "kernelspec": {
      "name": "python3",
      "display_name": "Python 3"
    },
    "language_info": {
      "name": "python"
    }
  },
  "cells": [
    {
      "cell_type": "markdown",
      "metadata": {
        "id": "view-in-github",
        "colab_type": "text"
      },
      "source": [
        "<a href=\"https://colab.research.google.com/github/2403A51L47/PROBABILITY-AND-STATICS/blob/main/LAB_%2302.ipynb\" target=\"_parent\"><img src=\"https://colab.research.google.com/assets/colab-badge.svg\" alt=\"Open In Colab\"/></a>"
      ]
    },
    {
      "cell_type": "code",
      "execution_count": 17,
      "metadata": {
        "colab": {
          "base_uri": "https://localhost:8080/"
        },
        "id": "g2wFb35R360V",
        "outputId": "9bf3d637-5ed3-4d08-acf4-2f2a1961509e"
      },
      "outputs": [
        {
          "output_type": "stream",
          "name": "stdout",
          "text": [
            "Median: 45.0\n",
            "Mode: 45\n",
            "Mode (pandas): 45\n"
          ]
        }
      ],
      "source": [
        "#Q1\n",
        "import numpy as np\n",
        "from scipy import stats\n",
        "import pandas as pd\n",
        "\n",
        "data = [12, 45, 67, 23, 45, 89, 45, 12, 33, 67, 67, 78, 45, 23, 23, 56, 89, 45, 33, 45]\n",
        "median = np.median(data)\n",
        "mode = stats.mode(data)[0]\n",
        "\n",
        "print(f\"Median: {median}\")\n",
        "print(f\"Mode: {mode}\")\n",
        "\n",
        "data_series = pd.Series(data)\n",
        "\n",
        "mode_pandas = data_series.mode()[0]\n",
        "\n",
        "print(f\"Mode (pandas): {mode_pandas}\")\n"
      ]
    },
    {
      "cell_type": "code",
      "source": [
        "import numpy as np\n",
        "import pandas as pd\n",
        "\n",
        "scores = [10, 20, 30, 40, 50]\n",
        "frequencies = [5, 8, 12, 15, 7]\n",
        "\n",
        "expanded_data = []\n",
        "for score, freq in zip(scores, frequencies):\n",
        "    expanded_data.extend([score] * freq)\n",
        "\n",
        "median_grouped = np.median(expanded_data)\n",
        "\n",
        "mode_grouped = stats.mode(expanded_data)[0]\n",
        "\n",
        "print(f\"Median (grouped): {median_grouped}\")\n",
        "print(f\"Mode (grouped): {mode_grouped}\")\n",
        "\n",
        "mode_grouped_pandas = data_grouped.mode()[0]\n",
        "\n",
        "print(f\"Mode (grouped, pandas): {mode_grouped_pandas}\")"
      ],
      "metadata": {
        "colab": {
          "base_uri": "https://localhost:8080/"
        },
        "id": "VrsG7Y237HHn",
        "outputId": "adcfb11e-f754-4b76-c791-c75337019d9f"
      },
      "execution_count": 22,
      "outputs": [
        {
          "output_type": "stream",
          "name": "stdout",
          "text": [
            "Median (grouped): 30.0\n",
            "Mode (grouped): 40\n",
            "Mode (grouped, pandas): 40\n"
          ]
        }
      ]
    },
    {
      "cell_type": "code",
      "source": [
        "#Q3\n",
        "\n",
        "import numpy as np\n",
        "\n",
        "class_intervals = [(0, 10), (10, 20), (20, 30), (30, 40), (40, 50)]\n",
        "frequencies = [4, 6, 10, 8, 2]\n",
        "\n",
        "h = 10\n",
        "\n",
        "N = sum(frequencies)\n",
        "\n",
        "cumulative_frequencies = np.cumsum(frequencies)\n",
        "\n",
        "median_class_index = np.where(cumulative_frequencies >= N / 2)[0][0]\n",
        "L_median = class_intervals[median_class_index][0]\n",
        "F = cumulative_frequencies[median_class_index - 1] if median_class_index > 0 else 0\n",
        "f_median = frequencies[median_class_index]\n",
        "\n",
        "median_grouped = L_median + ((N / 2 - F) / f_median) * h\n",
        "\n",
        "modal_class_index = np.argmax(frequencies)\n",
        "L_mode = class_intervals[modal_class_index][0]\n",
        "f1 = frequencies[modal_class_index]\n",
        "f0 = frequencies[modal_class_index - 1] if modal_class_index > 0 else 0\n",
        "f2 = frequencies[modal_class_index + 1] if modal_class_index < len(frequencies) - 1 else 0\n",
        "\n",
        "mode_grouped = L_mode + ((f1 - f0) / (2 * f1 - f0 - f2)) * h\n",
        "\n",
        "print(f\"Median (grouped data): {median_grouped}\")\n",
        "print(f\"Mode (grouped data): {mode_grouped}\")\n"
      ],
      "metadata": {
        "colab": {
          "base_uri": "https://localhost:8080/"
        },
        "id": "A7ko52SG9F01",
        "outputId": "e3b84fbd-63e4-4e28-9cac-8bbbb8904a65"
      },
      "execution_count": 24,
      "outputs": [
        {
          "output_type": "stream",
          "name": "stdout",
          "text": [
            "Median (grouped data): 25.0\n",
            "Mode (grouped data): 26.666666666666664\n"
          ]
        }
      ]
    }
  ]
}