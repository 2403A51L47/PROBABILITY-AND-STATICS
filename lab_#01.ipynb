{
  "nbformat": 4,
  "nbformat_minor": 0,
  "metadata": {
    "colab": {
      "provenance": [],
      "authorship_tag": "ABX9TyPomgS9B4nQo0c9Fy5bSDrC",
      "include_colab_link": true
    },
    "kernelspec": {
      "name": "python3",
      "display_name": "Python 3"
    },
    "language_info": {
      "name": "python"
    }
  },
  "cells": [
    {
      "cell_type": "markdown",
      "metadata": {
        "id": "view-in-github",
        "colab_type": "text"
      },
      "source": [
        "<a href=\"https://colab.research.google.com/github/2403A51L47/PROBABILITY-AND-STATICS/blob/main/lab_%2301.ipynb\" target=\"_parent\"><img src=\"https://colab.research.google.com/assets/colab-badge.svg\" alt=\"Open In Colab\"/></a>"
      ]
    },
    {
      "cell_type": "code",
      "execution_count": 12,
      "metadata": {
        "colab": {
          "base_uri": "https://localhost:8080/"
        },
        "id": "g2wFb35R360V",
        "outputId": "f1bf71e7-c4d3-4ea1-d170-2a02712fd5de"
      },
      "outputs": [
        {
          "output_type": "stream",
          "name": "stdout",
          "text": [
            "Mean of ages of participants: 13.46\n"
          ]
        }
      ],
      "source": [
        "#Q1\n",
        "ages = [10, 12, 15, 11, 13, 21]\n",
        "frequencies = [1, 4, 7, 9, 4, 3]\n",
        "\n",
        "total = sum(age * freq for age, freq in zip(ages, frequencies))\n",
        "total_frequency = sum(frequencies)\n",
        "mean_age = total / total_frequency\n",
        "\n",
        "print(f\"Mean of ages of participants: {mean_age:.2f}\")\n"
      ]
    },
    {
      "cell_type": "code",
      "source": [
        "# Q2\n",
        "class_intervals = [(0, 10), (10, 20), (20, 30), (30, 40), (40, 50), (50, 60)]\n",
        "frequencies = [1, 8, 7, 8, 7, 6]\n",
        "\n",
        "midpoints = [(interval[0] + interval[1]) / 2 for interval in class_intervals]\n",
        "\n",
        "total = sum(mid * freq for mid, freq in zip(midpoints, frequencies))\n",
        "total_frequency = sum(frequencies)\n",
        "mean_continuous = total / total_frequency\n",
        "\n",
        "print(f\"Mean of continuous frequency distribution: {mean_continuous:.2f}\")\n"
      ],
      "metadata": {
        "colab": {
          "base_uri": "https://localhost:8080/"
        },
        "id": "VrsG7Y237HHn",
        "outputId": "95eea7b0-248a-4b00-bac7-87b197b528d4"
      },
      "execution_count": 13,
      "outputs": [
        {
          "output_type": "stream",
          "name": "stdout",
          "text": [
            "Mean of continuous frequency distribution: 33.11\n"
          ]
        }
      ]
    }
  ]
}